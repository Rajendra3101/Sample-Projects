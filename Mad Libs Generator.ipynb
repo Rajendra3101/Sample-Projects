{
 "cells": [
  {
   "cell_type": "markdown",
   "id": "a870c86b",
   "metadata": {},
   "source": [
    "### Mad Libs Generator"
   ]
  },
  {
   "cell_type": "markdown",
   "id": "fc2ff645",
   "metadata": {},
   "source": [
    "##### Loop back to this point till the code completes"
   ]
  },
  {
   "cell_type": "code",
   "execution_count": null,
   "id": "b0d4a888",
   "metadata": {},
   "outputs": [],
   "source": [
    "loop =1\n",
    "while loop < 2:\n",
    "    noun = input(\"Enter Noun: \")\n",
    "    p_noun=input(\"Enter Plural Noun: \")\n",
    "    noun2 = input(\"Enter Noun: \")\n",
    "    place = input(\"Name a place: \")\n",
    "    adjective = input(\"Choose an adjective (Describing word): \")\n",
    "    noun3 = input(\"Choose a noun: \")\n",
    "    print (\"------------------------------------------\")\n",
    "    print (\"Be kind to your\",noun,\"- footed\", p_noun)\n",
    "    print (\"For a duck may be somebody's\", noun2,\",\")\n",
    "    print (\"Be kind to your\",p_noun,\"in\",place)\n",
    "    print (\"Where the weather is always\",adjective,\".\")\n",
    "    print ()\n",
    "    print (\"You may think that is this the\",noun3,\",\")\n",
    "    print (\"Well it is.\")\n",
    "    print (\"------------------------------------------\")\n",
    "    loop = loop + 1"
   ]
  }
 ],
 "metadata": {
  "kernelspec": {
   "display_name": "Python 3 (ipykernel)",
   "language": "python",
   "name": "python3"
  },
  "language_info": {
   "codemirror_mode": {
    "name": "ipython",
    "version": 3
   },
   "file_extension": ".py",
   "mimetype": "text/x-python",
   "name": "python",
   "nbconvert_exporter": "python",
   "pygments_lexer": "ipython3",
   "version": "3.9.12"
  }
 },
 "nbformat": 4,
 "nbformat_minor": 5
}
